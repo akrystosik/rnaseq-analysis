{
 "cells": [
  {
   "cell_type": "code",
   "execution_count": 4,
   "metadata": {},
   "outputs": [
    {
     "name": "stdout",
     "output_type": "stream",
     "text": [
      "Collecting scanpy\n",
      "  Downloading scanpy-1.11.1-py3-none-any.whl (2.1 MB)\n",
      "\u001b[2K     \u001b[90m━━━━━━━━━━━━━━━━━━━━━━━━━━━━━━━━━━━━━━━━\u001b[0m \u001b[32m2.1/2.1 MB\u001b[0m \u001b[31m5.9 MB/s\u001b[0m eta \u001b[36m0:00:00\u001b[0m:00:01\u001b[0m00:01\u001b[0m\n",
      "\u001b[?25hRequirement already satisfied: patsy!=1.0.0 in /mnt/czi-sci-ai/intrinsic-variation-gene-ex/enformer/lib/python3.10/site-packages (from scanpy) (1.0.1)\n",
      "Requirement already satisfied: joblib in /mnt/czi-sci-ai/intrinsic-variation-gene-ex/enformer/lib/python3.10/site-packages (from scanpy) (1.4.2)\n",
      "Requirement already satisfied: typing-extensions in /mnt/czi-sci-ai/intrinsic-variation-gene-ex/enformer/lib/python3.10/site-packages (from scanpy) (4.12.2)\n",
      "Collecting scikit-learn<1.6.0,>=1.1\n",
      "  Downloading scikit_learn-1.5.2-cp310-cp310-manylinux_2_17_x86_64.manylinux2014_x86_64.whl (13.3 MB)\n",
      "\u001b[2K     \u001b[90m━━━━━━━━━━━━━━━━━━━━━━━━━━━━━━━━━━━━━━━━\u001b[0m \u001b[32m13.3/13.3 MB\u001b[0m \u001b[31m44.9 MB/s\u001b[0m eta \u001b[36m0:00:00\u001b[0m00:01\u001b[0m00:01\u001b[0m\n",
      "\u001b[?25hRequirement already satisfied: numpy>=1.24 in /mnt/czi-sci-ai/intrinsic-variation-gene-ex/enformer/lib/python3.10/site-packages (from scanpy) (1.26.4)\n",
      "Collecting umap-learn!=0.5.0,>=0.5\n",
      "  Downloading umap_learn-0.5.7-py3-none-any.whl (88 kB)\n",
      "\u001b[2K     \u001b[90m━━━━━━━━━━━━━━━━━━━━━━━━━━━━━━━━━━━━━━━━\u001b[0m \u001b[32m88.8/88.8 KB\u001b[0m \u001b[31m4.9 MB/s\u001b[0m eta \u001b[36m0:00:00\u001b[0m\n",
      "\u001b[?25hRequirement already satisfied: numba>=0.57 in /mnt/czi-sci-ai/intrinsic-variation-gene-ex/enformer/lib/python3.10/site-packages (from scanpy) (0.61.0)\n",
      "Collecting pynndescent>=0.5\n",
      "  Downloading pynndescent-0.5.13-py3-none-any.whl (56 kB)\n",
      "\u001b[2K     \u001b[90m━━━━━━━━━━━━━━━━━━━━━━━━━━━━━━━━━━━━━━━━\u001b[0m \u001b[32m56.9/56.9 KB\u001b[0m \u001b[31m2.9 MB/s\u001b[0m eta \u001b[36m0:00:00\u001b[0m\n",
      "\u001b[?25hRequirement already satisfied: scipy>=1.8 in /mnt/czi-sci-ai/intrinsic-variation-gene-ex/enformer/lib/python3.10/site-packages (from scanpy) (1.15.2)\n",
      "Requirement already satisfied: natsort in /mnt/czi-sci-ai/intrinsic-variation-gene-ex/enformer/lib/python3.10/site-packages (from scanpy) (8.4.0)\n",
      "Requirement already satisfied: seaborn>=0.13 in /mnt/czi-sci-ai/intrinsic-variation-gene-ex/enformer/lib/python3.10/site-packages (from scanpy) (0.13.2)\n",
      "Requirement already satisfied: tqdm in /mnt/czi-sci-ai/intrinsic-variation-gene-ex/enformer/lib/python3.10/site-packages (from scanpy) (4.67.1)\n",
      "Requirement already satisfied: networkx>=2.7 in /mnt/czi-sci-ai/intrinsic-variation-gene-ex/enformer/lib/python3.10/site-packages (from scanpy) (3.4.2)\n",
      "Requirement already satisfied: pandas>=1.5 in /mnt/czi-sci-ai/intrinsic-variation-gene-ex/enformer/lib/python3.10/site-packages (from scanpy) (2.2.3)\n",
      "Requirement already satisfied: matplotlib>=3.7 in /mnt/czi-sci-ai/intrinsic-variation-gene-ex/enformer/lib/python3.10/site-packages (from scanpy) (3.10.1)\n",
      "Requirement already satisfied: anndata>=0.8 in /mnt/czi-sci-ai/intrinsic-variation-gene-ex/enformer/lib/python3.10/site-packages (from scanpy) (0.11.3)\n",
      "Collecting session-info2\n",
      "  Downloading session_info2-0.1.2-py3-none-any.whl (14 kB)\n",
      "Requirement already satisfied: h5py>=3.7 in /mnt/czi-sci-ai/intrinsic-variation-gene-ex/enformer/lib/python3.10/site-packages (from scanpy) (3.13.0)\n",
      "Requirement already satisfied: statsmodels>=0.13 in /mnt/czi-sci-ai/intrinsic-variation-gene-ex/enformer/lib/python3.10/site-packages (from scanpy) (0.14.4)\n",
      "Requirement already satisfied: packaging>=21.3 in /mnt/czi-sci-ai/intrinsic-variation-gene-ex/enformer/lib/python3.10/site-packages (from scanpy) (24.2)\n",
      "Collecting legacy-api-wrap>=1.4\n",
      "  Downloading legacy_api_wrap-1.4.1-py3-none-any.whl (10.0 kB)\n",
      "Requirement already satisfied: array-api-compat!=1.5,>1.4 in /mnt/czi-sci-ai/intrinsic-variation-gene-ex/enformer/lib/python3.10/site-packages (from anndata>=0.8->scanpy) (1.11.2)\n",
      "Requirement already satisfied: exceptiongroup in /mnt/czi-sci-ai/intrinsic-variation-gene-ex/enformer/lib/python3.10/site-packages (from anndata>=0.8->scanpy) (1.2.2)\n",
      "Requirement already satisfied: pillow>=8 in /mnt/czi-sci-ai/intrinsic-variation-gene-ex/enformer/lib/python3.10/site-packages (from matplotlib>=3.7->scanpy) (11.1.0)\n",
      "Requirement already satisfied: cycler>=0.10 in /mnt/czi-sci-ai/intrinsic-variation-gene-ex/enformer/lib/python3.10/site-packages (from matplotlib>=3.7->scanpy) (0.12.1)\n",
      "Requirement already satisfied: python-dateutil>=2.7 in /mnt/czi-sci-ai/intrinsic-variation-gene-ex/enformer/lib/python3.10/site-packages (from matplotlib>=3.7->scanpy) (2.9.0.post0)\n",
      "Requirement already satisfied: fonttools>=4.22.0 in /mnt/czi-sci-ai/intrinsic-variation-gene-ex/enformer/lib/python3.10/site-packages (from matplotlib>=3.7->scanpy) (4.56.0)\n",
      "Requirement already satisfied: kiwisolver>=1.3.1 in /mnt/czi-sci-ai/intrinsic-variation-gene-ex/enformer/lib/python3.10/site-packages (from matplotlib>=3.7->scanpy) (1.4.8)\n",
      "Requirement already satisfied: pyparsing>=2.3.1 in /mnt/czi-sci-ai/intrinsic-variation-gene-ex/enformer/lib/python3.10/site-packages (from matplotlib>=3.7->scanpy) (3.2.2)\n",
      "Requirement already satisfied: contourpy>=1.0.1 in /mnt/czi-sci-ai/intrinsic-variation-gene-ex/enformer/lib/python3.10/site-packages (from matplotlib>=3.7->scanpy) (1.3.1)\n",
      "Requirement already satisfied: llvmlite<0.45,>=0.44.0dev0 in /mnt/czi-sci-ai/intrinsic-variation-gene-ex/enformer/lib/python3.10/site-packages (from numba>=0.57->scanpy) (0.44.0)\n",
      "Requirement already satisfied: tzdata>=2022.7 in /mnt/czi-sci-ai/intrinsic-variation-gene-ex/enformer/lib/python3.10/site-packages (from pandas>=1.5->scanpy) (2025.2)\n",
      "Requirement already satisfied: pytz>=2020.1 in /mnt/czi-sci-ai/intrinsic-variation-gene-ex/enformer/lib/python3.10/site-packages (from pandas>=1.5->scanpy) (2025.1)\n",
      "Requirement already satisfied: threadpoolctl>=3.1.0 in /mnt/czi-sci-ai/intrinsic-variation-gene-ex/enformer/lib/python3.10/site-packages (from scikit-learn<1.6.0,>=1.1->scanpy) (3.6.0)\n",
      "Requirement already satisfied: six>=1.5 in /mnt/czi-sci-ai/intrinsic-variation-gene-ex/enformer/lib/python3.10/site-packages (from python-dateutil>=2.7->matplotlib>=3.7->scanpy) (1.17.0)\n",
      "Installing collected packages: session-info2, legacy-api-wrap, scikit-learn, pynndescent, umap-learn, scanpy\n",
      "  Attempting uninstall: scikit-learn\n",
      "    Found existing installation: scikit-learn 1.6.1\n",
      "    Uninstalling scikit-learn-1.6.1:\n",
      "      Successfully uninstalled scikit-learn-1.6.1\n",
      "Successfully installed legacy-api-wrap-1.4.1 pynndescent-0.5.13 scanpy-1.11.1 scikit-learn-1.5.2 session-info2-0.1.2 umap-learn-0.5.7\n",
      "Note: you may need to restart the kernel to use updated packages.\n"
     ]
    }
   ],
   "source": [
    "pip install scanpy"
   ]
  },
  {
   "cell_type": "code",
   "execution_count": 1,
   "metadata": {},
   "outputs": [
    {
     "ename": "NameError",
     "evalue": "name 'adata' is not defined",
     "output_type": "error",
     "traceback": [
      "\u001b[0;31m---------------------------------------------------------------------------\u001b[0m",
      "\u001b[0;31mNameError\u001b[0m                                 Traceback (most recent call last)",
      "Cell \u001b[0;32mIn[1], line 18\u001b[0m\n\u001b[1;32m     15\u001b[0m LATEST_RUN \u001b[38;5;241m=\u001b[39m \u001b[38;5;124mf\u001b[39m\u001b[38;5;124m\"\u001b[39m\u001b[38;5;132;01m{\u001b[39;00mBASE_DIR\u001b[38;5;132;01m}\u001b[39;00m\u001b[38;5;124m/standardized_data/run_20250428_234225\u001b[39m\u001b[38;5;124m\"\u001b[39m\n\u001b[1;32m     16\u001b[0m COMBINED_FILE \u001b[38;5;241m=\u001b[39m \u001b[38;5;124mf\u001b[39m\u001b[38;5;124m\"\u001b[39m\u001b[38;5;132;01m{\u001b[39;00mLATEST_RUN\u001b[38;5;132;01m}\u001b[39;00m\u001b[38;5;124m/combined_all_genes_sparse_standardized.h5ad\u001b[39m\u001b[38;5;124m\"\u001b[39m\n\u001b[0;32m---> 18\u001b[0m \u001b[43madata\u001b[49m\u001b[38;5;241m.\u001b[39mobs\n",
      "\u001b[0;31mNameError\u001b[0m: name 'adata' is not defined"
     ]
    }
   ],
   "source": [
    "\n",
    "import scanpy as sc\n",
    "import pandas as pd\n",
    "import numpy as np\n",
    "import matplotlib.pyplot as plt\n",
    "import seaborn as sns\n",
    "import os\n",
    "from pathlib import Path\n",
    "\n",
    "# Set plotting style\n",
    "sc.settings.set_figure_params(dpi=100, facecolor='white')\n",
    "plt.rcParams['figure.figsize'] = (10, 6)\n",
    "\n",
    "# Base paths\n",
    "BASE_DIR = \"/mnt/czi-sci-ai/intrinsic-variation-gene-ex/rnaseq\"\n",
    "LATEST_RUN = f\"{BASE_DIR}/standardized_data/run_20250428_234225\"\n",
    "COMBINED_FILE = f\"{LATEST_RUN}/combined_all_genes_sparse_standardized.h5ad\"\n",
    "\n",
    "adata.obs"
   ]
  },
  {
   "cell_type": "code",
   "execution_count": 28,
   "metadata": {},
   "outputs": [
    {
     "data": {
      "text/plain": [
       "View of AnnData object with n_obs × n_vars = 305 × 69415\n",
       "    obs: 'sample_id', 'subject_id', 'dataset', 'data_type', 'expression_unit', 'tissue', 'sex', 'age'\n",
       "    var: 'gene_id', 'present_in_datasets', 'chromosome', 'mapping_source', 'gene_name', 'original_ids', 'gene_type'\n",
       "    uns: 'dataset_info', 'dataset_overlap', 'gene_counts', 'harmonized_gencode_version', 'harmonized_reference_genome', 'sparsity_stats'"
      ]
     },
     "execution_count": 28,
     "metadata": {},
     "output_type": "execute_result"
    }
   ],
   "source": [
    "adata[adata.obs.dataset == \"encode\"]"
   ]
  },
  {
   "cell_type": "code",
   "execution_count": 9,
   "metadata": {},
   "outputs": [
    {
     "name": "stdout",
     "output_type": "stream",
     "text": [
      "\n",
      "=== DATASET DISTRIBUTION ===\n"
     ]
    },
    {
     "data": {
      "text/plain": [
       "dataset\n",
       "gtex      19616\n",
       "mage        731\n",
       "encode      305\n",
       "Name: count, dtype: int64"
      ]
     },
     "execution_count": 9,
     "metadata": {},
     "output_type": "execute_result"
    }
   ],
   "source": [
    "# Dataset distribution\n",
    "print(\"\\n=== DATASET DISTRIBUTION ===\")\n",
    "dataset_counts = adata.obs['dataset'].value_counts()\n",
    "dataset_counts"
   ]
  },
  {
   "cell_type": "code",
   "execution_count": 11,
   "metadata": {},
   "outputs": [
    {
     "name": "stdout",
     "output_type": "stream",
     "text": [
      "\n",
      "=== TISSUE DISTRIBUTION ===\n"
     ]
    },
    {
     "data": {
      "text/plain": [
       "tissue\n",
       "muscle - skeletal                      818\n",
       "whole blood                            803\n",
       "skin - sun exposed (lower leg)         754\n",
       "lymphoblast                            731\n",
       "thyroid                                726\n",
       "adipose - subcutaneous                 714\n",
       "artery - tibial                        691\n",
       "nerve - tibial                         670\n",
       "cells - cultured fibroblasts           652\n",
       "skin - not sun exposed (suprapubic)    651\n",
       "lung                                   650\n",
       "esophagus - mucosa                     614\n",
       "adipose - visceral (omentum)           587\n",
       "esophagus - muscularis                 561\n",
       "breast - mammary tissue                514\n",
       "Name: count, dtype: int64"
      ]
     },
     "execution_count": 11,
     "metadata": {},
     "output_type": "execute_result"
    }
   ],
   "source": [
    "# Examine tissue distribution\n",
    "print(\"\\n=== TISSUE DISTRIBUTION ===\")\n",
    "tissue_counts = adata.obs['tissue'].value_counts().head(15)\n",
    "tissue_counts\n"
   ]
  }
 ],
 "metadata": {
  "kernelspec": {
   "display_name": "enformer",
   "language": "python",
   "name": "python3"
  },
  "language_info": {
   "codemirror_mode": {
    "name": "ipython",
    "version": 3
   },
   "file_extension": ".py",
   "mimetype": "text/x-python",
   "name": "python",
   "nbconvert_exporter": "python",
   "pygments_lexer": "ipython3",
   "version": "3.10.12"
  }
 },
 "nbformat": 4,
 "nbformat_minor": 2
}
